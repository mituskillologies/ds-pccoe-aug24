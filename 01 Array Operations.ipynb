{
 "cells": [
  {
   "cell_type": "code",
   "execution_count": 1,
   "id": "5b027a1b-53bb-430b-a9f4-ec415c138b8e",
   "metadata": {},
   "outputs": [
    {
     "name": "stdout",
     "output_type": "stream",
     "text": [
      "Hello\n"
     ]
    }
   ],
   "source": [
    "print('Hello')"
   ]
  },
  {
   "cell_type": "code",
   "execution_count": 2,
   "id": "4b515d91-d303-498e-9f6d-704a4724f2f3",
   "metadata": {},
   "outputs": [],
   "source": [
    "import numpy as np"
   ]
  },
  {
   "cell_type": "code",
   "execution_count": 3,
   "id": "47887ae0-8ec3-4b3a-9f8a-335239daa47c",
   "metadata": {},
   "outputs": [],
   "source": [
    "num = np.array([56,33,12,78,65,28,53,18])"
   ]
  },
  {
   "cell_type": "code",
   "execution_count": 4,
   "id": "b33bf869-f279-4725-91c9-7042e360670a",
   "metadata": {},
   "outputs": [
    {
     "data": {
      "text/plain": [
       "array([56, 33, 12, 78, 65, 28, 53, 18])"
      ]
     },
     "execution_count": 4,
     "metadata": {},
     "output_type": "execute_result"
    }
   ],
   "source": [
    "num"
   ]
  },
  {
   "cell_type": "code",
   "execution_count": 5,
   "id": "5755de34-4c0b-4916-af4b-973586cd6887",
   "metadata": {},
   "outputs": [
    {
     "data": {
      "text/plain": [
       "dtype('int64')"
      ]
     },
     "execution_count": 5,
     "metadata": {},
     "output_type": "execute_result"
    }
   ],
   "source": [
    "num.dtype"
   ]
  },
  {
   "cell_type": "code",
   "execution_count": 6,
   "id": "5c8e2d9b-dc8e-4e61-962a-ae23ab895016",
   "metadata": {},
   "outputs": [
    {
     "data": {
      "text/plain": [
       "646758745985462345696856753657876534754"
      ]
     },
     "execution_count": 6,
     "metadata": {},
     "output_type": "execute_result"
    }
   ],
   "source": [
    "x = 646758745985462345696856753657876534754\n",
    "x"
   ]
  },
  {
   "cell_type": "code",
   "execution_count": 7,
   "id": "c332a0a5-3535-4362-9028-abdaa6841953",
   "metadata": {},
   "outputs": [],
   "source": [
    "num = np.array([56,33,12,78,65,28,53,18], dtype=np.int8)"
   ]
  },
  {
   "cell_type": "code",
   "execution_count": 8,
   "id": "1b5e26fb-2685-4f0f-b03f-25c9238fb7d7",
   "metadata": {},
   "outputs": [
    {
     "data": {
      "text/plain": [
       "array([56, 33, 12, 78, 65, 28, 53, 18], dtype=int8)"
      ]
     },
     "execution_count": 8,
     "metadata": {},
     "output_type": "execute_result"
    }
   ],
   "source": [
    "num"
   ]
  },
  {
   "cell_type": "code",
   "execution_count": 9,
   "id": "16b1355c-e9b5-41b1-9ab9-5edd18186aa6",
   "metadata": {},
   "outputs": [],
   "source": [
    "M = np.array([[4,5,6],[8,7,9],[1,2,0]])"
   ]
  },
  {
   "cell_type": "code",
   "execution_count": 10,
   "id": "58c88afd-e9e0-4ca9-acad-9e270d0611e7",
   "metadata": {},
   "outputs": [
    {
     "data": {
      "text/plain": [
       "array([[4, 5, 6],\n",
       "       [8, 7, 9],\n",
       "       [1, 2, 0]])"
      ]
     },
     "execution_count": 10,
     "metadata": {},
     "output_type": "execute_result"
    }
   ],
   "source": [
    "M"
   ]
  },
  {
   "cell_type": "code",
   "execution_count": 11,
   "id": "d45b47b1-5224-4915-9b97-0a8b007ef14c",
   "metadata": {},
   "outputs": [
    {
     "data": {
      "text/plain": [
       "(3, 3)"
      ]
     },
     "execution_count": 11,
     "metadata": {},
     "output_type": "execute_result"
    }
   ],
   "source": [
    "M.shape"
   ]
  },
  {
   "cell_type": "code",
   "execution_count": 12,
   "id": "6fb74a96-bfd5-43ca-8059-a38cd2fcafd9",
   "metadata": {},
   "outputs": [
    {
     "data": {
      "text/plain": [
       "9"
      ]
     },
     "execution_count": 12,
     "metadata": {},
     "output_type": "execute_result"
    }
   ],
   "source": [
    "M.max()"
   ]
  },
  {
   "cell_type": "code",
   "execution_count": 13,
   "id": "918efa21-063e-41e3-83e4-809af8728e6d",
   "metadata": {},
   "outputs": [
    {
     "data": {
      "text/plain": [
       "array([56, 33, 12, 78, 65, 28, 53, 18], dtype=int8)"
      ]
     },
     "execution_count": 13,
     "metadata": {},
     "output_type": "execute_result"
    }
   ],
   "source": [
    "num"
   ]
  },
  {
   "cell_type": "code",
   "execution_count": 14,
   "id": "e65ad6df-a6e3-4998-960d-5f7cf5e9e251",
   "metadata": {},
   "outputs": [
    {
     "data": {
      "text/plain": [
       "array([ 112,   66,   24, -100, -126,   56,  106,   36], dtype=int8)"
      ]
     },
     "execution_count": 14,
     "metadata": {},
     "output_type": "execute_result"
    }
   ],
   "source": [
    "num * 2"
   ]
  },
  {
   "cell_type": "code",
   "execution_count": 15,
   "id": "ec5255e2-20e8-4a54-90ad-6bc903066017",
   "metadata": {},
   "outputs": [
    {
     "data": {
      "text/plain": [
       "array([19. , 14.4, 10.2, 23.4, 20.8, 13.4, 18.4, 11.4])"
      ]
     },
     "execution_count": 15,
     "metadata": {},
     "output_type": "execute_result"
    }
   ],
   "source": [
    "num / 5 + 7.8"
   ]
  },
  {
   "cell_type": "code",
   "execution_count": 16,
   "id": "13235a2c-e411-49f6-b40c-efd7a28db780",
   "metadata": {},
   "outputs": [
    {
     "data": {
      "text/plain": [
       "array([ True, False,  True,  True, False,  True, False,  True])"
      ]
     },
     "execution_count": 16,
     "metadata": {},
     "output_type": "execute_result"
    }
   ],
   "source": [
    "num % 2 == 0"
   ]
  },
  {
   "cell_type": "code",
   "execution_count": 17,
   "id": "470ec4e2-edcf-4999-bbda-d12ab310ceab",
   "metadata": {},
   "outputs": [
    {
     "data": {
      "text/plain": [
       "array([56, 12, 78, 28, 18], dtype=int8)"
      ]
     },
     "execution_count": 17,
     "metadata": {},
     "output_type": "execute_result"
    }
   ],
   "source": [
    "num[num % 2 == 0]"
   ]
  },
  {
   "cell_type": "code",
   "execution_count": null,
   "id": "f9944d62-e492-48d0-abb8-f7b0c5db9bd6",
   "metadata": {},
   "outputs": [],
   "source": []
  }
 ],
 "metadata": {
  "kernelspec": {
   "display_name": "Python 3 (ipykernel)",
   "language": "python",
   "name": "python3"
  },
  "language_info": {
   "codemirror_mode": {
    "name": "ipython",
    "version": 3
   },
   "file_extension": ".py",
   "mimetype": "text/x-python",
   "name": "python",
   "nbconvert_exporter": "python",
   "pygments_lexer": "ipython3",
   "version": "3.10.12"
  }
 },
 "nbformat": 4,
 "nbformat_minor": 5
}
